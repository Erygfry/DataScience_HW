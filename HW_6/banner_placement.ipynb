{
 "cells": [
  {
   "cell_type": "markdown",
   "metadata": {
    "id": "vZOlzdB5qGA4"
   },
   "source": [
    "# Размещение баннеров"
   ]
  },
  {
   "cell_type": "markdown",
   "metadata": {
    "id": "CPyLIK0rqGA5"
   },
   "source": [
    "Представим, что международное круизное агентство Carnival Cruise Line решило себя разрекламировать с помощью баннеров и обратилось для этого к вам. Чтобы протестировать, велика ли от таких баннеров польза, их будет размещено всего 20 штук по всему миру. Вам надо выбрать 20 таких локаций для размещения, чтобы польза была большой и агентство продолжило с вами сотрудничать.\n",
    "\n",
    "Агентство крупное, и у него есть несколько офисов по всему миру. Вблизи этих офисов оно и хочет разместить баннеры — легче договариваться и проверять результат. Также эти места должны быть популярны среди туристов."
   ]
  },
  {
   "cell_type": "code",
   "execution_count": 29,
   "metadata": {
    "collapsed": true,
    "id": "WIDAE3gaqGA6"
   },
   "outputs": [],
   "source": [
    "import numpy as np\n",
    "import pandas as pd\n",
    "from sklearn.cluster import MeanShift\n",
    "import seaborn as sns\n",
    "from geopy.distance import geodesic"
   ]
  },
  {
   "cell_type": "markdown",
   "metadata": {
    "id": "Ld1RBAHTqGA6"
   },
   "source": [
    "Для поиска оптимальных мест воспользуемся базой данных крупнейшей социальной сети, основанной на локациях — Foursquare.\n",
    "\n",
    "Часть открытых данных есть, например, на сайте archive.org:\n",
    "\n",
    "https://archive.org/details/201309_foursquare_dataset_umn\n",
    "\n",
    "Скачайте любым удобным образом архив fsq.zip с этой страницы.\n",
    "\n",
    "Нас будет интересовать файл checkins.dat."
   ]
  },
  {
   "cell_type": "markdown",
   "metadata": {
    "id": "YPv_w6leqGA6"
   },
   "source": [
    "Для удобной работы с этим документом преобразуем его к формату csv, удалив строки, не содержащие координат — они неинформативны для нас:"
   ]
  },
  {
   "cell_type": "code",
   "execution_count": 21,
   "metadata": {
    "id": "DxOkKMlpqGA7"
   },
   "outputs": [
    {
     "name": "stdout",
     "output_type": "stream",
     "text": [
      "<class 'pandas.core.frame.DataFrame'>\n",
      "RangeIndex: 1021967 entries, 0 to 1021966\n",
      "Data columns (total 6 columns):\n",
      " #   Column            Non-Null Count    Dtype  \n",
      "---  ------            --------------    -----  \n",
      " 0   id                1021967 non-null  object \n",
      " 1   user_id           1021966 non-null  float64\n",
      " 2   venue_id          1021966 non-null  float64\n",
      " 3   latitude          396634 non-null   float64\n",
      " 4   longitude         396634 non-null   float64\n",
      " 5   created_at        1021966 non-null  object \n",
      "dtypes: float64(4), object(2)\n",
      "memory usage: 46.8+ MB\n",
      "None\n"
     ]
    },
    {
     "data": {
      "text/html": [
       "<div>\n",
       "<style scoped>\n",
       "    .dataframe tbody tr th:only-of-type {\n",
       "        vertical-align: middle;\n",
       "    }\n",
       "\n",
       "    .dataframe tbody tr th {\n",
       "        vertical-align: top;\n",
       "    }\n",
       "\n",
       "    .dataframe thead th {\n",
       "        text-align: right;\n",
       "    }\n",
       "</style>\n",
       "<table border=\"1\" class=\"dataframe\">\n",
       "  <thead>\n",
       "    <tr style=\"text-align: right;\">\n",
       "      <th></th>\n",
       "      <th>id</th>\n",
       "      <th>user_id</th>\n",
       "      <th>venue_id</th>\n",
       "      <th>latitude</th>\n",
       "      <th>longitude</th>\n",
       "      <th>created_at</th>\n",
       "    </tr>\n",
       "  </thead>\n",
       "  <tbody>\n",
       "    <tr>\n",
       "      <th>0</th>\n",
       "      <td>984301</td>\n",
       "      <td>2041916.0</td>\n",
       "      <td>5222.0</td>\n",
       "      <td>NaN</td>\n",
       "      <td>NaN</td>\n",
       "      <td>2012-04-21 17:39:01</td>\n",
       "    </tr>\n",
       "    <tr>\n",
       "      <th>1</th>\n",
       "      <td>984222</td>\n",
       "      <td>15824.0</td>\n",
       "      <td>5222.0</td>\n",
       "      <td>38.895112</td>\n",
       "      <td>-77.036366</td>\n",
       "      <td>2012-04-21 17:43:47</td>\n",
       "    </tr>\n",
       "    <tr>\n",
       "      <th>2</th>\n",
       "      <td>984315</td>\n",
       "      <td>1764391.0</td>\n",
       "      <td>5222.0</td>\n",
       "      <td>NaN</td>\n",
       "      <td>NaN</td>\n",
       "      <td>2012-04-21 17:37:18</td>\n",
       "    </tr>\n",
       "    <tr>\n",
       "      <th>3</th>\n",
       "      <td>984234</td>\n",
       "      <td>44652.0</td>\n",
       "      <td>5222.0</td>\n",
       "      <td>33.800745</td>\n",
       "      <td>-84.410520</td>\n",
       "      <td>2012-04-21 17:43:43</td>\n",
       "    </tr>\n",
       "    <tr>\n",
       "      <th>4</th>\n",
       "      <td>984249</td>\n",
       "      <td>2146840.0</td>\n",
       "      <td>5222.0</td>\n",
       "      <td>NaN</td>\n",
       "      <td>NaN</td>\n",
       "      <td>2012-04-21 17:42:58</td>\n",
       "    </tr>\n",
       "  </tbody>\n",
       "</table>\n",
       "</div>"
      ],
      "text/plain": [
       "    id       user_id   venue_id   latitude        longitude       \\\n",
       "0  984301   2041916.0     5222.0             NaN             NaN   \n",
       "1  984222     15824.0     5222.0       38.895112      -77.036366   \n",
       "2  984315   1764391.0     5222.0             NaN             NaN   \n",
       "3  984234     44652.0     5222.0       33.800745      -84.410520   \n",
       "4  984249   2146840.0     5222.0             NaN             NaN   \n",
       "\n",
       "      created_at        \n",
       "0  2012-04-21 17:39:01  \n",
       "1  2012-04-21 17:43:47  \n",
       "2  2012-04-21 17:37:18  \n",
       "3  2012-04-21 17:43:43  \n",
       "4  2012-04-21 17:42:58  "
      ]
     },
     "execution_count": 21,
     "metadata": {},
     "output_type": "execute_result"
    }
   ],
   "source": [
    "#Reading the data file\n",
    "checkins = pd.read_csv('checkins.dat', sep='|', skipinitialspace=True, skiprows=[1], low_memory=False)\n",
    "print(checkins.info())\n",
    "checkins.head()"
   ]
  },
  {
   "cell_type": "code",
   "execution_count": 22,
   "metadata": {
    "id": "9_4hf84PqGA7",
    "scrolled": true
   },
   "outputs": [
    {
     "name": "stdout",
     "output_type": "stream",
     "text": [
      "Shape without NaN: (396634, 6)\n"
     ]
    },
    {
     "data": {
      "text/html": [
       "<div>\n",
       "<style scoped>\n",
       "    .dataframe tbody tr th:only-of-type {\n",
       "        vertical-align: middle;\n",
       "    }\n",
       "\n",
       "    .dataframe tbody tr th {\n",
       "        vertical-align: top;\n",
       "    }\n",
       "\n",
       "    .dataframe thead th {\n",
       "        text-align: right;\n",
       "    }\n",
       "</style>\n",
       "<table border=\"1\" class=\"dataframe\">\n",
       "  <thead>\n",
       "    <tr style=\"text-align: right;\">\n",
       "      <th></th>\n",
       "      <th>id</th>\n",
       "      <th>user_id</th>\n",
       "      <th>venue_id</th>\n",
       "      <th>latitude</th>\n",
       "      <th>longitude</th>\n",
       "      <th>created_at</th>\n",
       "    </tr>\n",
       "  </thead>\n",
       "  <tbody>\n",
       "    <tr>\n",
       "      <th>1</th>\n",
       "      <td>984222</td>\n",
       "      <td>15824.0</td>\n",
       "      <td>5222.0</td>\n",
       "      <td>38.895112</td>\n",
       "      <td>-77.036366</td>\n",
       "      <td>2012-04-21 17:43:47</td>\n",
       "    </tr>\n",
       "    <tr>\n",
       "      <th>3</th>\n",
       "      <td>984234</td>\n",
       "      <td>44652.0</td>\n",
       "      <td>5222.0</td>\n",
       "      <td>33.800745</td>\n",
       "      <td>-84.410520</td>\n",
       "      <td>2012-04-21 17:43:43</td>\n",
       "    </tr>\n",
       "    <tr>\n",
       "      <th>7</th>\n",
       "      <td>984291</td>\n",
       "      <td>105054.0</td>\n",
       "      <td>5222.0</td>\n",
       "      <td>45.523452</td>\n",
       "      <td>-122.676207</td>\n",
       "      <td>2012-04-21 17:39:22</td>\n",
       "    </tr>\n",
       "    <tr>\n",
       "      <th>9</th>\n",
       "      <td>984318</td>\n",
       "      <td>2146539.0</td>\n",
       "      <td>5222.0</td>\n",
       "      <td>40.764462</td>\n",
       "      <td>-111.904565</td>\n",
       "      <td>2012-04-21 17:35:46</td>\n",
       "    </tr>\n",
       "    <tr>\n",
       "      <th>10</th>\n",
       "      <td>984232</td>\n",
       "      <td>93870.0</td>\n",
       "      <td>380645.0</td>\n",
       "      <td>33.448377</td>\n",
       "      <td>-112.074037</td>\n",
       "      <td>2012-04-21 17:38:18</td>\n",
       "    </tr>\n",
       "  </tbody>\n",
       "</table>\n",
       "</div>"
      ],
      "text/plain": [
       "         id    user_id  venue_id   latitude   longitude           created_at\n",
       "1   984222     15824.0    5222.0  38.895112  -77.036366  2012-04-21 17:43:47\n",
       "3   984234     44652.0    5222.0  33.800745  -84.410520  2012-04-21 17:43:43\n",
       "7   984291    105054.0    5222.0  45.523452 -122.676207  2012-04-21 17:39:22\n",
       "9   984318   2146539.0    5222.0  40.764462 -111.904565  2012-04-21 17:35:46\n",
       "10  984232     93870.0  380645.0  33.448377 -112.074037  2012-04-21 17:38:18"
      ]
     },
     "execution_count": 22,
     "metadata": {},
     "output_type": "execute_result"
    }
   ],
   "source": [
    "#Stripping columns names (deleting whitespaces)\n",
    "checkins.columns = checkins.columns.str.strip()\n",
    "\n",
    "#Dropping rows with NaN values\n",
    "checkins = checkins.dropna()\n",
    "print('Shape without NaN: %s' % str(checkins.shape))\n",
    "checkins.head()"
   ]
  },
  {
   "cell_type": "markdown",
   "metadata": {
    "id": "tdVYh7prqGA7"
   },
   "source": [
    "Теперь необходимо кластеризовать данные координаты, чтобы выявить центры скоплений туристов. Поскольку баннеры имеют сравнительно небольшую площадь действия, нам нужен алгоритм, позволяющий ограничить размер кластера и не зависящий от количества кластеров.\n",
    "\n",
    "Эта задача — хороший повод познакомиться с алгоритмом MeanShift. Его описание при желании можно посмотреть в sklearn user guide. Используйте MeanShift, указав bandwidth=0.1, что в переводе из градусов в метры колеблется примерно от 5 до 10 км в средних широтах."
   ]
  },
  {
   "cell_type": "markdown",
   "metadata": {
    "id": "Udhu1wghqGA7"
   },
   "source": [
    "Примечание: на 396634 строках кластеризация будет работать долго. Быть очень терпеливым не возбраняется — результат от этого только улучшится. Но для того, чтобы сдать задание, понадобится сабсет из первых 100 тысяч строк. Это компромисс между качеством и затраченным временем. Обучение алгоритма на всём датасете занимает около часа, а на 100 тыс. строк — примерно 2 минуты, однако этого достаточно для получения корректных результатов."
   ]
  },
  {
   "cell_type": "markdown",
   "metadata": {
    "id": "pMwwhbdYqGA8"
   },
   "source": [
    "Некоторые из получившихся кластеров содержат слишком мало точек — такие кластеры не интересны рекламодателям. Поэтому надо определить, какие из кластеров содержат, скажем, больше 15 элементов. Центры этих кластеров и являются оптимальными для размещения."
   ]
  },
  {
   "cell_type": "markdown",
   "metadata": {
    "id": "_glFqpB8qGA8"
   },
   "source": [
    "Как мы помним, 20 баннеров надо разместить близ офисов компании. Найдем на Google Maps по запросу Carnival Cruise Line адреса всех офисов:\n",
    "\n",
    "33.751277, -118.188740 (Los Angeles)\n",
    "\n",
    "25.867736, -80.324116 (Miami)\n",
    "\n",
    "51.503016, -0.075479 (London)\n",
    "\n",
    "52.378894, 4.885084 (Amsterdam)\n",
    "\n",
    "39.366487, 117.036146 (Beijing)\n",
    "\n",
    "-33.868457, 151.205134 (Sydney)\n",
    "\n",
    "Осталось определить 20 ближайших к ним центров кластеров. Т.е. посчитать дистанцию до ближайшего офиса для каждой точки и выбрать 20 с наименьшим значением."
   ]
  },
  {
   "cell_type": "code",
   "execution_count": 23,
   "metadata": {},
   "outputs": [],
   "source": [
    "checkins = checkins.head(10**5)"
   ]
  },
  {
   "cell_type": "code",
   "execution_count": null,
   "metadata": {},
   "outputs": [],
   "source": [
    "meanshift = MeanShift(bandwidth=0.1, n_jobs=-1)\n",
    "checkins[\"cluster\"] = meanshift.fit_predict(checkins[[\"latitude\", \"longitude\"]])"
   ]
  },
  {
   "cell_type": "code",
   "execution_count": 25,
   "metadata": {},
   "outputs": [],
   "source": [
    "cluster_centers = pd.DataFrame(meanshift.cluster_centers_, columns=[\"latitude\", \"longitude\"])\n",
    "checkins['cluster_size'] = checkins.groupby('cluster')['cluster'].transform('count')"
   ]
  },
  {
   "cell_type": "code",
   "execution_count": 26,
   "metadata": {},
   "outputs": [
    {
     "data": {
      "text/plain": [
       "(3231, 2)"
      ]
     },
     "execution_count": 26,
     "metadata": {},
     "output_type": "execute_result"
    }
   ],
   "source": [
    "cluster_centers.shape"
   ]
  },
  {
   "cell_type": "code",
   "execution_count": 27,
   "metadata": {},
   "outputs": [],
   "source": [
    "filtered_clusters = checkins[checkins['cluster_size'] > 15]\n",
    "filtered_cluster_centers = cluster_centers.loc[filtered_clusters['cluster'].unique()]"
   ]
  },
  {
   "cell_type": "code",
   "execution_count": 28,
   "metadata": {},
   "outputs": [
    {
     "data": {
      "text/plain": [
       "(592, 2)"
      ]
     },
     "execution_count": 28,
     "metadata": {},
     "output_type": "execute_result"
    }
   ],
   "source": [
    "filtered_cluster_centers.shape"
   ]
  },
  {
   "cell_type": "code",
   "execution_count": 13,
   "metadata": {},
   "outputs": [
    {
     "data": {
      "text/html": [
       "<div>\n",
       "<style scoped>\n",
       "    .dataframe tbody tr th:only-of-type {\n",
       "        vertical-align: middle;\n",
       "    }\n",
       "\n",
       "    .dataframe tbody tr th {\n",
       "        vertical-align: top;\n",
       "    }\n",
       "\n",
       "    .dataframe thead th {\n",
       "        text-align: right;\n",
       "    }\n",
       "</style>\n",
       "<table border=\"1\" class=\"dataframe\">\n",
       "  <thead>\n",
       "    <tr style=\"text-align: right;\">\n",
       "      <th></th>\n",
       "      <th>id</th>\n",
       "      <th>user_id</th>\n",
       "      <th>venue_id</th>\n",
       "      <th>latitude</th>\n",
       "      <th>longitude</th>\n",
       "      <th>created_at</th>\n",
       "      <th>cluster</th>\n",
       "      <th>cluster_size</th>\n",
       "    </tr>\n",
       "  </thead>\n",
       "  <tbody>\n",
       "    <tr>\n",
       "      <th>1</th>\n",
       "      <td>984222</td>\n",
       "      <td>15824.0</td>\n",
       "      <td>5222.0</td>\n",
       "      <td>38.895112</td>\n",
       "      <td>-77.036366</td>\n",
       "      <td>2012-04-21 17:43:47</td>\n",
       "      <td>5</td>\n",
       "      <td>2409</td>\n",
       "    </tr>\n",
       "    <tr>\n",
       "      <th>3</th>\n",
       "      <td>984234</td>\n",
       "      <td>44652.0</td>\n",
       "      <td>5222.0</td>\n",
       "      <td>33.800745</td>\n",
       "      <td>-84.410520</td>\n",
       "      <td>2012-04-21 17:43:43</td>\n",
       "      <td>7</td>\n",
       "      <td>1601</td>\n",
       "    </tr>\n",
       "    <tr>\n",
       "      <th>7</th>\n",
       "      <td>984291</td>\n",
       "      <td>105054.0</td>\n",
       "      <td>5222.0</td>\n",
       "      <td>45.523452</td>\n",
       "      <td>-122.676207</td>\n",
       "      <td>2012-04-21 17:39:22</td>\n",
       "      <td>30</td>\n",
       "      <td>594</td>\n",
       "    </tr>\n",
       "    <tr>\n",
       "      <th>9</th>\n",
       "      <td>984318</td>\n",
       "      <td>2146539.0</td>\n",
       "      <td>5222.0</td>\n",
       "      <td>40.764462</td>\n",
       "      <td>-111.904565</td>\n",
       "      <td>2012-04-21 17:35:46</td>\n",
       "      <td>65</td>\n",
       "      <td>186</td>\n",
       "    </tr>\n",
       "    <tr>\n",
       "      <th>10</th>\n",
       "      <td>984232</td>\n",
       "      <td>93870.0</td>\n",
       "      <td>380645.0</td>\n",
       "      <td>33.448377</td>\n",
       "      <td>-112.074037</td>\n",
       "      <td>2012-04-21 17:38:18</td>\n",
       "      <td>1</td>\n",
       "      <td>4692</td>\n",
       "    </tr>\n",
       "    <tr>\n",
       "      <th>...</th>\n",
       "      <td>...</td>\n",
       "      <td>...</td>\n",
       "      <td>...</td>\n",
       "      <td>...</td>\n",
       "      <td>...</td>\n",
       "      <td>...</td>\n",
       "      <td>...</td>\n",
       "      <td>...</td>\n",
       "    </tr>\n",
       "    <tr>\n",
       "      <th>233788</th>\n",
       "      <td>123888</td>\n",
       "      <td>1019078.0</td>\n",
       "      <td>1105563.0</td>\n",
       "      <td>33.575000</td>\n",
       "      <td>-117.725556</td>\n",
       "      <td>2011-12-11 05:38:19</td>\n",
       "      <td>50</td>\n",
       "      <td>355</td>\n",
       "    </tr>\n",
       "    <tr>\n",
       "      <th>233789</th>\n",
       "      <td>124366</td>\n",
       "      <td>771129.0</td>\n",
       "      <td>329847.0</td>\n",
       "      <td>37.629349</td>\n",
       "      <td>-122.400087</td>\n",
       "      <td>2011-12-11 04:55:34</td>\n",
       "      <td>4</td>\n",
       "      <td>3526</td>\n",
       "    </tr>\n",
       "    <tr>\n",
       "      <th>233793</th>\n",
       "      <td>125556</td>\n",
       "      <td>804990.0</td>\n",
       "      <td>254046.0</td>\n",
       "      <td>29.762884</td>\n",
       "      <td>-95.383061</td>\n",
       "      <td>2011-12-11 06:54:20</td>\n",
       "      <td>25</td>\n",
       "      <td>656</td>\n",
       "    </tr>\n",
       "    <tr>\n",
       "      <th>233797</th>\n",
       "      <td>127250</td>\n",
       "      <td>526214.0</td>\n",
       "      <td>34473.0</td>\n",
       "      <td>32.802955</td>\n",
       "      <td>-96.769923</td>\n",
       "      <td>2011-12-11 10:05:38</td>\n",
       "      <td>19</td>\n",
       "      <td>807</td>\n",
       "    </tr>\n",
       "    <tr>\n",
       "      <th>233798</th>\n",
       "      <td>127284</td>\n",
       "      <td>290973.0</td>\n",
       "      <td>280656.0</td>\n",
       "      <td>37.774929</td>\n",
       "      <td>-122.419415</td>\n",
       "      <td>2011-12-11 08:24:40</td>\n",
       "      <td>4</td>\n",
       "      <td>3526</td>\n",
       "    </tr>\n",
       "  </tbody>\n",
       "</table>\n",
       "<p>100000 rows × 8 columns</p>\n",
       "</div>"
      ],
      "text/plain": [
       "             id    user_id   venue_id   latitude   longitude  \\\n",
       "1       984222     15824.0     5222.0  38.895112  -77.036366   \n",
       "3       984234     44652.0     5222.0  33.800745  -84.410520   \n",
       "7       984291    105054.0     5222.0  45.523452 -122.676207   \n",
       "9       984318   2146539.0     5222.0  40.764462 -111.904565   \n",
       "10      984232     93870.0   380645.0  33.448377 -112.074037   \n",
       "...         ...        ...        ...        ...         ...   \n",
       "233788  123888   1019078.0  1105563.0  33.575000 -117.725556   \n",
       "233789  124366    771129.0   329847.0  37.629349 -122.400087   \n",
       "233793  125556    804990.0   254046.0  29.762884  -95.383061   \n",
       "233797  127250    526214.0    34473.0  32.802955  -96.769923   \n",
       "233798  127284    290973.0   280656.0  37.774929 -122.419415   \n",
       "\n",
       "                 created_at  cluster  cluster_size  \n",
       "1       2012-04-21 17:43:47        5          2409  \n",
       "3       2012-04-21 17:43:43        7          1601  \n",
       "7       2012-04-21 17:39:22       30           594  \n",
       "9       2012-04-21 17:35:46       65           186  \n",
       "10      2012-04-21 17:38:18        1          4692  \n",
       "...                     ...      ...           ...  \n",
       "233788  2011-12-11 05:38:19       50           355  \n",
       "233789  2011-12-11 04:55:34        4          3526  \n",
       "233793  2011-12-11 06:54:20       25           656  \n",
       "233797  2011-12-11 10:05:38       19           807  \n",
       "233798  2011-12-11 08:24:40        4          3526  \n",
       "\n",
       "[100000 rows x 8 columns]"
      ]
     },
     "execution_count": 13,
     "metadata": {},
     "output_type": "execute_result"
    }
   ],
   "source": [
    "checkins"
   ]
  },
  {
   "cell_type": "code",
   "execution_count": null,
   "metadata": {},
   "outputs": [
    {
     "data": {
      "text/plain": [
       "<Axes: xlabel='latitude', ylabel='longitude'>"
      ]
     },
     "execution_count": 17,
     "metadata": {},
     "output_type": "execute_result"
    },
    {
     "data": {
      "image/png": "[encoded data removed]",
      "text/plain": [
       "<Figure size 640x480 with 1 Axes>"
      ]
     },
     "metadata": {},
     "output_type": "display_data"
    }
   ],
   "source": [
    "sns.scatterplot(data=checkins, x=\"latitude\", y=\"longitude\", hue=\"cluster\", alpha=0.5)"
   ]
  },
  {
   "cell_type": "code",
   "execution_count": 5,
   "metadata": {},
   "outputs": [],
   "source": [
    "data = {\n",
    "    \"Latitude\": [33.751277, 25.867736, 51.503016, 52.378894, 39.366487, -33.868457],\n",
    "    \"Longitude\": [-118.188740, -80.324116, -0.075479, 4.885084, 117.036146, 151.205134],\n",
    "    \"City\": [\"Los Angeles\", \"Miami\", \"London\", \"Amsterdam\", \"Beijing\", \"Sydney\"]\n",
    "}\n",
    "\n",
    "offices = pd.DataFrame(data)"
   ]
  },
  {
   "cell_type": "code",
   "execution_count": null,
   "metadata": {
    "collapsed": true,
    "id": "QF38FDyzqGA9"
   },
   "outputs": [],
   "source": [
    "def distance(lat, lon, offices):\n",
    "    distances = [geodesic((lat, lon), (row['Latitude'], row['Longitude'])).km for _, row in offices.iterrows()]\n",
    "    return min(distances)"
   ]
  },
  {
   "cell_type": "code",
   "execution_count": null,
   "metadata": {},
   "outputs": [
    {
     "data": {
      "text/html": [
       "<div>\n",
       "<style scoped>\n",
       "    .dataframe tbody tr th:only-of-type {\n",
       "        vertical-align: middle;\n",
       "    }\n",
       "\n",
       "    .dataframe tbody tr th {\n",
       "        vertical-align: top;\n",
       "    }\n",
       "\n",
       "    .dataframe thead th {\n",
       "        text-align: right;\n",
       "    }\n",
       "</style>\n",
       "<table border=\"1\" class=\"dataframe\">\n",
       "  <thead>\n",
       "    <tr style=\"text-align: right;\">\n",
       "      <th></th>\n",
       "      <th>latitude</th>\n",
       "      <th>longitude</th>\n",
       "      <th>min_distance</th>\n",
       "    </tr>\n",
       "  </thead>\n",
       "  <tbody>\n",
       "    <tr>\n",
       "      <th>370</th>\n",
       "      <td>52.372964</td>\n",
       "      <td>4.892317</td>\n",
       "      <td>0.823444</td>\n",
       "    </tr>\n",
       "    <tr>\n",
       "      <th>420</th>\n",
       "      <td>-33.860630</td>\n",
       "      <td>151.204776</td>\n",
       "      <td>0.868755</td>\n",
       "    </tr>\n",
       "    <tr>\n",
       "      <th>419</th>\n",
       "      <td>25.845672</td>\n",
       "      <td>-80.318891</td>\n",
       "      <td>2.499839</td>\n",
       "    </tr>\n",
       "    <tr>\n",
       "      <th>58</th>\n",
       "      <td>51.502991</td>\n",
       "      <td>-0.125537</td>\n",
       "      <td>3.475846</td>\n",
       "    </tr>\n",
       "    <tr>\n",
       "      <th>51</th>\n",
       "      <td>33.809878</td>\n",
       "      <td>-118.148924</td>\n",
       "      <td>7.473233</td>\n",
       "    </tr>\n",
       "    <tr>\n",
       "      <th>29</th>\n",
       "      <td>25.785812</td>\n",
       "      <td>-80.217938</td>\n",
       "      <td>13.989509</td>\n",
       "    </tr>\n",
       "    <tr>\n",
       "      <th>167</th>\n",
       "      <td>25.705350</td>\n",
       "      <td>-80.283429</td>\n",
       "      <td>18.446966</td>\n",
       "    </tr>\n",
       "    <tr>\n",
       "      <th>87</th>\n",
       "      <td>33.888325</td>\n",
       "      <td>-118.048928</td>\n",
       "      <td>19.965422</td>\n",
       "    </tr>\n",
       "    <tr>\n",
       "      <th>92</th>\n",
       "      <td>26.010098</td>\n",
       "      <td>-80.199991</td>\n",
       "      <td>20.083482</td>\n",
       "    </tr>\n",
       "    <tr>\n",
       "      <th>42</th>\n",
       "      <td>33.872986</td>\n",
       "      <td>-118.362091</td>\n",
       "      <td>20.972689</td>\n",
       "    </tr>\n",
       "    <tr>\n",
       "      <th>291</th>\n",
       "      <td>33.972575</td>\n",
       "      <td>-118.168371</td>\n",
       "      <td>24.618591</td>\n",
       "    </tr>\n",
       "    <tr>\n",
       "      <th>27</th>\n",
       "      <td>33.817306</td>\n",
       "      <td>-117.891249</td>\n",
       "      <td>28.509664</td>\n",
       "    </tr>\n",
       "    <tr>\n",
       "      <th>320</th>\n",
       "      <td>26.138844</td>\n",
       "      <td>-80.334347</td>\n",
       "      <td>30.052961</td>\n",
       "    </tr>\n",
       "    <tr>\n",
       "      <th>119</th>\n",
       "      <td>33.983936</td>\n",
       "      <td>-118.007405</td>\n",
       "      <td>30.781408</td>\n",
       "    </tr>\n",
       "    <tr>\n",
       "      <th>32</th>\n",
       "      <td>33.674303</td>\n",
       "      <td>-117.858789</td>\n",
       "      <td>31.753935</td>\n",
       "    </tr>\n",
       "    <tr>\n",
       "      <th>55</th>\n",
       "      <td>26.120863</td>\n",
       "      <td>-80.158907</td>\n",
       "      <td>32.558263</td>\n",
       "    </tr>\n",
       "    <tr>\n",
       "      <th>11</th>\n",
       "      <td>34.060398</td>\n",
       "      <td>-118.248709</td>\n",
       "      <td>34.733547</td>\n",
       "    </tr>\n",
       "    <tr>\n",
       "      <th>159</th>\n",
       "      <td>26.200585</td>\n",
       "      <td>-80.250716</td>\n",
       "      <td>37.600479</td>\n",
       "    </tr>\n",
       "    <tr>\n",
       "      <th>17</th>\n",
       "      <td>34.035487</td>\n",
       "      <td>-118.438998</td>\n",
       "      <td>39.111036</td>\n",
       "    </tr>\n",
       "    <tr>\n",
       "      <th>50</th>\n",
       "      <td>33.650896</td>\n",
       "      <td>-117.752074</td>\n",
       "      <td>41.985212</td>\n",
       "    </tr>\n",
       "  </tbody>\n",
       "</table>\n",
       "</div>"
      ],
      "text/plain": [
       "      latitude   longitude  min_distance\n",
       "370  52.372964    4.892317      0.823444\n",
       "420 -33.860630  151.204776      0.868755\n",
       "419  25.845672  -80.318891      2.499839\n",
       "58   51.502991   -0.125537      3.475846\n",
       "51   33.809878 -118.148924      7.473233\n",
       "29   25.785812  -80.217938     13.989509\n",
       "167  25.705350  -80.283429     18.446966\n",
       "87   33.888325 -118.048928     19.965422\n",
       "92   26.010098  -80.199991     20.083482\n",
       "42   33.872986 -118.362091     20.972689\n",
       "291  33.972575 -118.168371     24.618591\n",
       "27   33.817306 -117.891249     28.509664\n",
       "320  26.138844  -80.334347     30.052961\n",
       "119  33.983936 -118.007405     30.781408\n",
       "32   33.674303 -117.858789     31.753935\n",
       "55   26.120863  -80.158907     32.558263\n",
       "11   34.060398 -118.248709     34.733547\n",
       "159  26.200585  -80.250716     37.600479\n",
       "17   34.035487 -118.438998     39.111036\n",
       "50   33.650896 -117.752074     41.985212"
      ]
     },
     "execution_count": 36,
     "metadata": {},
     "output_type": "execute_result"
    }
   ],
   "source": [
    "filtered_cluster_centers['min_distance'] = filtered_cluster_centers.apply(\n",
    "    lambda row: distance(row['latitude'], row['longitude'], offices), axis=1\n",
    ")\n",
    "\n",
    "\n",
    "filtered_cluster_centers.nsmallest(20, 'min_distance')"
   ]
  },
  {
   "cell_type": "markdown",
   "metadata": {
    "id": "0pIg97lCqGA9"
   },
   "source": [
    "Выберите из получившихся 20 центров тот, который наименее удален от ближайшего к нему офиса. Ответ в этом задании — широта и долгота этого центра, записанные через пробел."
   ]
  }
 ],
 "metadata": {
  "colab": {
   "provenance": []
  },
  "kernelspec": {
   "display_name": "base",
   "language": "python",
   "name": "python3"
  },
  "language_info": {
   "codemirror_mode": {
    "name": "ipython",
    "version": 3
   },
   "file_extension": ".py",
   "mimetype": "text/x-python",
   "name": "python",
   "nbconvert_exporter": "python",
   "pygments_lexer": "ipython3",
   "version": "3.12.4"
  }
 },
 "nbformat": 4,
 "nbformat_minor": 0
}
